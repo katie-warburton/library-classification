{
 "cells": [
  {
   "cell_type": "markdown",
   "metadata": {},
   "source": [
    "\n",
    "# Library of Congress Bias Analysis\n",
    "\n",
    "An information-theoretic appraoch to examining bias in the library of congress classification system <br>\n",
    "\n",
    "\n",
    "## Attributions\n",
    "\n",
    "This report contains information from [OhioLINK Circulation Data](https://www.oclc.org/research/areas/systemwide-library/ohiolink/circulation.html) which is made available by OCLC Online Computer Library Center, Inc. and OhioLINK under the [ODC Attribution License]( https://www.oclc.org/research/areas/systemwide-library/ohiolink/odcby.html).\n",
    "\n",
    "\n",
    "## Imports\n",
    "\n",
    "Libraries used in the analysis\n",
    "- *pymarc* handles the bibliographic data stored in .marc files "
   ]
  },
  {
   "cell_type": "code",
   "execution_count": 1,
   "metadata": {},
   "outputs": [],
   "source": [
    "import sys\n",
    "#!{sys.executable} -m pip install PyPDF2\n",
    "from pymarc import MARCReader\n",
    "from tabulate import tabulate\n",
    "import pickle\n",
    "from matplotlib import pyplot \n",
    "import random\n",
    "import requests\n",
    "import PyPDF2 as pypdf\n",
    "import io\n",
    "import copy\n",
    "import math\n",
    "import numpy as np\n",
    "from collections import deque"
   ]
  },
  {
   "cell_type": "markdown",
   "metadata": {},
   "source": [
    "## Bibliographic Data\n",
    "\n",
    "Bibliograhic data is stored in .marc files that follow the MARC 21 standard for bibliographic data. MARC files are parsed to extract Library of Congress Call Numbers (LCCNs) for each item with a unique OCLC number. A unique OCLC number corresponds to a unique library resource (i.e. book, enyclopedia, article, etc.) \n",
    "\n",
    "#### Parse Error\n",
    "From reading the [pymarc documentation](https://pymarc.readthedocs.io/en/latest/#reading) and the MARCReader docstrings in [pymarc.reader source code](http://localhost:8888/?token=1d99f31e99827dd33afb03006153048202fb3b4711687efc), it was determined that the parameters used for MARCReader allow the data in the file to be correctly parsed. \n",
    "- The parse error comes from the leader (LDR) not having the appropriate encoding value to indicate how the record should be decoded. \n",
    "- The issue was not related to the LCCN field tag ('050')\n",
    "\n",
    "#### Missing LCCN Data\n",
    "Items that did not have a LCCN did not contain a field with the tag '050'. \n",
    "- Some records contain a field with tag '090' for locally assigned LCCNs. \n",
    "- Records without '090' or '050' tag appear to not contain LCCN data within the marc file.\n",
    "    - On [Classify](http://classify.oclc.org/classify2/ClassifyDemo?&startRec=0) these items contained LCCN numbers for some holdings while some where unclassified. \n",
    "    - For example, see the entry for an item with OCLC # [6728](http://classify.oclc.org/classify2/ClassifyDemo?search-standnum-txt=6728&startRec=0).\n",
    "- Potential tag(s) of interest:\n",
    "    - '055': Library and Archives Canada (LAC) \n",
    "        - uses LCCN with sections specifically created for Canadian history/lit.  \n",
    "    - '060' and '070' are LCCN-like call numbers used by the National Library of Medicine and the National Library of Agriculture respectively\n",
    "    \n",
    "#### Items with more than one LCCN\n",
    "\n",
    "Some MARC files can have multiple LCCN tags (multiple entries tagged with '050'). For now only the first tag is considered but later more work will be done to determine which to use. \n",
    "\n",
    "### Loading Bibliographic Data"
   ]
  },
  {
   "cell_type": "code",
   "execution_count": 2,
   "metadata": {},
   "outputs": [],
   "source": [
    "filePath1 = 'OhioCirculationData/OhioLINK_1.marc'\n",
    "filePath2 = 'OhioCirculationData/OhioLINK_2.marc'\n",
    "\n",
    "def getMarcData(filepath, bibList, noLCC):\n",
    "    i = 0\n",
    "    with open(filepath, 'rb') as f:\n",
    "        reader = MARCReader(f, to_unicode=True, force_utf8=True,utf8_handling='ignore')\n",
    "        for record in reader:\n",
    "            if i == 0:\n",
    "                example = record \n",
    "            lcc = [subfield for field in record.get_fields('050') for subfield in field.get_subfields('a')]\n",
    "            if lcc == []:\n",
    "                lcc = [subfield for field in record.get_fields('090') for subfield in field.get_subfields('a')]\n",
    "                if lcc == []:\n",
    "                    num = random.randint(1, 1000)\n",
    "                    if num == 1:\n",
    "                        noLCC.append(record)           \n",
    "            bibList.append(((int(record['001'].value()[3:])), lcc))\n",
    "            i+=1\n",
    "    return (bibList, noLCC, example)\n",
    "\n",
    "try:\n",
    "    with open ('marcData.pk', 'rb') as f:\n",
    "        bibList = pickle.load(f)\n",
    "        example = pickle.load(f)\n",
    "        noLCC = pickle.load(f)\n",
    "        \n",
    "except FileNotFoundError:\n",
    "    bibList = []\n",
    "    noLCC = []\n",
    "    bibList, noLCC, example1 = getMarcData(filePath1, bibList, noLCC)\n",
    "    bibList, noLCC, _ = getMarcData(filePath2, bibList, noLCC)\n",
    "\n",
    "    with open('marcData.pk', 'wb') as f:\n",
    "        pickle.dump(bibList, f)\n",
    "        pickle.dump(example1, f)\n",
    "        pickle.dump(noLCC, f)"
   ]
  },
  {
   "cell_type": "markdown",
   "metadata": {},
   "source": [
    "### Example of bibliographic data\n",
    "\n",
    "- The first is an example of an entry in a .marc file. \n",
    "- The second is a tuple containg the relevant information extracted from the .marc file. The first entry is the OCLC number and the second is the resources Libray of Congress Classification."
   ]
  },
  {
   "cell_type": "code",
   "execution_count": 3,
   "metadata": {},
   "outputs": [
    {
     "name": "stdout",
     "output_type": "stream",
     "text": [
      "=LDR  01075cam  2200289 a 4500\n",
      "=001  ocm00000001\\\n",
      "=003  OCoLC\n",
      "=005  20061229000001.0\n",
      "=008  690526s1963\\\\\\\\ilua\\\\\\j\\\\\\\\\\\\000\\1\\eng\\\\\n",
      "=010  \\\\$a   63011276 \n",
      "=040  \\\\$aDLC$cDLC$dIUL$dOCL$dOCLCQ$dTML$dOCL$dOCLCQ$dBTCTA\n",
      "=019  \\\\$a6567842$a9987701$a53095235\n",
      "=042  \\\\$alcac\n",
      "=050  00$aPZ5$b.R1924 \n",
      "=082  00$a[Fic]\n",
      "=096  \\\\$aQV 4 An78 v.46 2006\n",
      "=245  04$aThe Rand McNally book of favorite pastimes /$cillustrated by Dorothy Grider.\n",
      "=246  30$aFavorite pastimes\n",
      "=260  \\\\$aChicago :$bRand McNally,$c[1963]\n",
      "=300  \\\\$a110 p. :$bcol. ill. ;$c33 cm.\n",
      "=520  \\\\$aBoys and girls in these four stories work hard to master ballet dancing, riding, baton twirling, and swimming.\n",
      "=505  0\\$aLittle ballerina / by D. Grider -- Little horseman / by M. Watts -- Little majorette / by D. Grider -- Little swimmers / by V. Hunter.\n",
      "=650  \\1$aShort stories.\n",
      "=700  1\\$aGrider, Dorothy.\n",
      "=700  1\\$aHunter, Virginia.\n",
      "=938  \\\\$aBaker and Taylor$bBTCP$n63011276\n",
      "=994  \\\\$a11$bOCL$i00466\n",
      "\n",
      "(1, ['PZ5'])\n"
     ]
    }
   ],
   "source": [
    "print(example)\n",
    "print(bibList[0])"
   ]
  },
  {
   "cell_type": "markdown",
   "metadata": {},
   "source": [
    "### Examples of Records missing LCCNs"
   ]
  },
  {
   "cell_type": "code",
   "execution_count": 4,
   "metadata": {},
   "outputs": [
    {
     "name": "stdout",
     "output_type": "stream",
     "text": [
      "=LDR  01065cam  2200337 a 4500\n",
      "=001  ocm32549271\\\n",
      "=003  OCoLC\n",
      "=005  20060521112943.0\n",
      "=008  950510s1995\\\\\\\\enkc\\\\\\\\\\k\\\\\\\\000\\0ceng\\\\\n",
      "=040  \\\\$aUKM$cUKM$dOCL$dOCLCQ\n",
      "=015  \\\\$aGB95-37635\n",
      "=020  \\\\$a0711948224 (pbk.) :$c7.95 : Formerly CIP\n",
      "=029  0\\$aUKM$bb9537635\n",
      "=029  1\\$aNLGGC$b134061705\n",
      "=043  \\\\$an-us---\n",
      "=082  04$a781.660922$220\n",
      "=100  1\\$aWall, Mick.\n",
      "=245  10$aStone Temple Pilots /$c[Mick Wall & Malcolm Dome].\n",
      "=260  \\\\$aLondon :$bOmnibus,$cc1995.\n",
      "=300  \\\\$a[62] p. :$bports. (some col.) ;$c30 cm.\n",
      "=504  \\\\$aDiscography: p62.\n",
      "=610  20$aStone Temple Pilots (Group)\n",
      "=610  20$aStone Temple Pilots (Group)$vPictorial works.\n",
      "=650  \\0$aRock musicians$zUnited States$vBiography.\n",
      "=650  \\0$aRock musicians$zUnited States$vPortraits.\n",
      "=650  \\0$aRock groups$zUnited States.\n",
      "=650  \\0$aRock groups$zUnited States$vPictorial works.\n",
      "=653  0\\$aRock music\n",
      "=653  0\\$aUnited States\n",
      "=700  1\\$aDome, Malcolm.\n",
      "=994  \\\\$a11$bOCL$i06178\n",
      "\n",
      "=LDR  00557nam  2200181K  4500\n",
      "=001  ocm14915409\\\n",
      "=003  OCoLC\n",
      "=005  20060331055101.0\n",
      "=008  861202s1854\\\\\\\\gw\\\\\\\\\\\\\\\\\\\\\\\\000\\0\\ger\\d\n",
      "=040  \\\\$aOBE$cOBE\n",
      "=029  1\\$aNLGGC$b062304429\n",
      "=092  \\\\$a878.9$bG283ZF\n",
      "=100  1\\$aFleckeisen, Alfred,$d1820-1899.\n",
      "=245  10$aZur Kritik der altlateinischen Dichterfragmente bei Gellius.$bSendschreiben an Doctor Martin Hertz in Berlin.\n",
      "=260  \\\\$aLeipzig,$bVerlag von B.G. Teubner,$c1854.\n",
      "=300  \\\\$a48 p.\n",
      "=600  10$aGellius, Cneius.\n",
      "=994  \\\\$a11$bOCL$i00044\n",
      "\n"
     ]
    }
   ],
   "source": [
    "for i in range(2):\n",
    "    index = random.randint(0, len(noLCC))\n",
    "    print(noLCC[index])"
   ]
  },
  {
   "cell_type": "markdown",
   "metadata": {},
   "source": [
    "## Analysis\n",
    "\n",
    "### Basic Statistics"
   ]
  },
  {
   "cell_type": "code",
   "execution_count": 5,
   "metadata": {},
   "outputs": [],
   "source": [
    "def extractLCCN(bibList):\n",
    "    lccnDat = [[item[0], item[1]] for item in bibList if len(item[1]) != 0]\n",
    "    badChars = '*()+,[]/!- '\n",
    "    for item in lccnDat:\n",
    "        for char in badChars:\n",
    "            item[1][0] = item[1][0].replace(char, '').upper()\n",
    "    return lccnDat\n",
    "lccnDat = extractLCCN(bibList)"
   ]
  },
  {
   "cell_type": "code",
   "execution_count": 6,
   "metadata": {},
   "outputs": [],
   "source": [
    "def countMissing(bibList, i):\n",
    "    return len([item[0] for item in bibList if item[i] == []])\n",
    "missingLCCN = countMissing(bibList, 1)"
   ]
  },
  {
   "cell_type": "code",
   "execution_count": 7,
   "metadata": {},
   "outputs": [],
   "source": [
    "def countMultiple(bibList, i):\n",
    "    return len([item[0] for item in bibList if len(item[i]) > 1])\n",
    "multiLCCN = countMultiple(bibList, 1)"
   ]
  },
  {
   "cell_type": "code",
   "execution_count": 8,
   "metadata": {},
   "outputs": [
    {
     "name": "stdout",
     "output_type": "stream",
     "text": [
      "                             # with a       # without a     # with multiple\n",
      "                       classification    classification    classifications\n",
      "-------------------  ----------------  ----------------  ------------------\n",
      "Library of Congress           5797712            982257              177964\n"
     ]
    }
   ],
   "source": [
    "total = len(lccnDat)\n",
    "table = [[\"Library of Congress\", total,  missingLCCN, multiLCCN],\\\n",
    "                 ]\n",
    "print(tabulate(table, headers=[\"\", \"# with a\\nclassification\",\\\n",
    "                               \"# without a\\nclassification\", \\\n",
    "                               \"# with multiple\\nclassifications \"]))"
   ]
  },
  {
   "cell_type": "markdown",
   "metadata": {},
   "source": [
    "### Class Analysis"
   ]
  },
  {
   "cell_type": "code",
   "execution_count": 9,
   "metadata": {},
   "outputs": [],
   "source": [
    "def sortByClass(LoCDat):\n",
    "    categories = \"ABCDEFGHJKLMNPQRSTUVZ\"\n",
    "    classDict = {c: [] for c in categories}\n",
    "    classDict[\"Other\"] = []\n",
    "    for item in LoCDat:\n",
    "        if len(item[1][0]) > 2:\n",
    "            label = item[1][0][0]\n",
    "            if label in categories:\n",
    "                classDict[label].append((item[0], item[1][0]))\n",
    "            else:\n",
    "                classDict[\"Other\"].append((item[0], item[1][0]))\n",
    "        else:\n",
    "            classDict[\"Other\"].append((item[0], item[1][0]))\n",
    "    return classDict\n",
    "        \n",
    "topLevelSplit = sortByClass(lccnDat)"
   ]
  },
  {
   "cell_type": "markdown",
   "metadata": {},
   "source": [
    "#### Functions to parse pdfs \n",
    "*Note:* These functions might change if better versions of files representing the library of congress class structure are created/found. For example, data is stored in a .csv file not a .pdf.  "
   ]
  },
  {
   "cell_type": "code",
   "execution_count": 10,
   "metadata": {},
   "outputs": [],
   "source": [
    "def readPDF(cat):\n",
    "    base = 'https://www.loc.gov/aba/cataloging/classification/lcco/lcco_'\n",
    "    url = base + cat.lower() + '.pdf'\n",
    "    r = requests.get(url)\n",
    "    f = io.BytesIO(r.content)\n",
    "    reader = pypdf.PdfFileReader(f, strict = False)\n",
    "    count = reader.numPages\n",
    "    contents = []\n",
    "    for i in range(count):\n",
    "        contents.append(reader.getPage(i).extractText())\n",
    "    return contents \n",
    "\n",
    "def extractText():\n",
    "    categories = \"ABCDGHJKLMNPQRSTUVZ\"\n",
    "    classText = {}\n",
    "    for cat in categories:\n",
    "        classText[cat] = readPDF(cat)\n",
    "    classText['EF'] = readPDF('EF')\n",
    "    return classText\n",
    "\n",
    "def getName(txt):\n",
    "    start = txt[0].find('-')\n",
    "    end = txt[0].find('(')\n",
    "    catName = txt[0][start+1:end]\n",
    "    dot = catName.find('•')\n",
    "    if dot != -1:\n",
    "        return catName[:dot]\n",
    "    return catName.replace('\\n', '')\n",
    "\n",
    "def getClassNames(classText):\n",
    "    catInfo = {key: '' for key in classText.keys() if key != 'EF' }\n",
    "    catInfo['E'] = ''\n",
    "    catInfo[\"F\"] = ''\n",
    "    for cat in catInfo.keys():\n",
    "        if cat == 'E' or cat == 'F':\n",
    "            name = getName(classText['EF'])\n",
    "            idx = name.find('-')\n",
    "            name = name[idx+1:]\n",
    "        else:\n",
    "            name = getName(classText[cat])\n",
    "        name = name[1:]\n",
    "        catInfo[cat] = name\n",
    "    return catInfo\n",
    "             \n",
    "\n",
    "classText = extractText()\n",
    "classNames = getClassNames(classText)"
   ]
  },
  {
   "cell_type": "code",
   "execution_count": 11,
   "metadata": {},
   "outputs": [],
   "source": [
    "def getLevel2(txt, cat):\n",
    "    start = 0\n",
    "    idx = [] \n",
    "    while True:\n",
    "        start = txt[0].find('Subclass', start)\n",
    "        if start == -1:\n",
    "            break \n",
    "        plural =  txt[0][start:start+len(\"subclasses\")]\n",
    "        if plural == \"Subclasses\":\n",
    "            newStart = txt[0].find('\\n', start+len(\"subclasses\"))\n",
    "            newStart = txt[0].find(cat, newStart)\n",
    "            end = txt[0].find(' ', newStart+1)\n",
    "            idx.append((newStart, end))\n",
    "        else:\n",
    "            end = txt[0].find(' ', start + len('Subclass '))\n",
    "            idx.append((start + len('Subclass '), end))\n",
    "        start += len('Subclass')\n",
    "    subs = []\n",
    "    for i in idx:\n",
    "        if len(txt[0][i[0]:i[1]]) == 1:\n",
    "            subs.append(txt[0][i[0]:i[1]] + \"∅\")\n",
    "        else:\n",
    "            subs.append(txt[0][i[0]:i[1]])\n",
    "    return subs\n",
    "\n",
    "def getSubCatNames(txt):\n",
    "    names = {'E': ['E∅'], 'F':['F∅']}\n",
    "    for cat in \"ABCDGHJKLMNPQRSTUVZ\":\n",
    "        subLabels = getLevel2(txt[cat], cat)\n",
    "        # might need to reconsider dealing with labels like KDZ, etc. \n",
    "        names[cat] = set([sublabel[:2] for sublabel in subLabels])\n",
    "    return names\n",
    "\n",
    "subCatNames = getSubCatNames(classText)"
   ]
  },
  {
   "cell_type": "code",
   "execution_count": 12,
   "metadata": {
    "scrolled": true
   },
   "outputs": [],
   "source": [
    "def getSubCat(category, level):\n",
    "    subCats = {}\n",
    "    for item in category: \n",
    "        label = item[1][level-1]\n",
    "        if label.isnumeric():\n",
    "            label = '∅'\n",
    "        if label not in subCats:\n",
    "            subCats[label] = [item]\n",
    "        else:\n",
    "            subCats[label].append(item)\n",
    "    return subCats\n",
    "\n",
    "def verifySubCats(foundNames, actualNames):\n",
    "    invalid = []\n",
    "    newDict = {}\n",
    "    labels = [label[1] for label in actualNames]\n",
    "    for cat in foundNames.keys():\n",
    "        if cat in labels:\n",
    "            newDict[cat] = copy.deepcopy(foundNames[cat])\n",
    "        else:\n",
    "            invalid += copy.deepcopy(foundNames[cat])\n",
    "    return newDict, invalid\n",
    "    \n",
    "def subDivide(classBreakdown, subCatNames):\n",
    "    classes = copy.deepcopy(classBreakdown)\n",
    "    for cat in 'ABCDEFGHJKLMNPQRSTUVZ':\n",
    "        subCat = getSubCat(classes[cat], 2)\n",
    "        subCat, invalid = verifySubCats(subCat, subCatNames[cat])\n",
    "        classes[cat] = subCat \n",
    "        classes['Other'] += invalid\n",
    "    return classes \n",
    "\n",
    "classBreakdown = subDivide(topLevelSplit, subCatNames)"
   ]
  },
  {
   "cell_type": "code",
   "execution_count": 13,
   "metadata": {
    "scrolled": true
   },
   "outputs": [
    {
     "name": "stdout",
     "output_type": "stream",
     "text": [
      "Evenness vs. category size\n",
      "\n",
      "Top \t 0.726 \t 5537886\n",
      "A \t 0.562 \t 31702\n",
      "B \t 0.786 \t 545033\n",
      "C \t 0.699 \t 43709\n",
      "D \t 0.695 \t 215457\n",
      "G \t 0.641 \t 137203\n",
      "H \t 0.766 \t 666820\n",
      "J \t 0.746 \t 130882\n",
      "K \t 0.281 \t 226259\n",
      "L \t 0.452 \t 176496\n",
      "M \t 0.31 \t 89650\n",
      "N \t 0.731 \t 250882\n",
      "P \t 0.749 \t 1500268\n",
      "Q \t 0.791 \t 455617\n",
      "R \t 0.639 \t 228454\n",
      "S \t 0.733 \t 81430\n",
      "T \t 0.862 \t 329628\n",
      "U \t 0.665 \t 34930\n",
      "V \t 0.687 \t 11568\n",
      "Z \t 0.011 \t 115771\n"
     ]
    }
   ],
   "source": [
    "def getCounts(classes):\n",
    "    countDict = {}\n",
    "    for cat in 'ABCDEFGHJKLMNPQRSTUVZ':\n",
    "        countList = [] \n",
    "        for subCat in classes[cat].keys():\n",
    "            countList.append(len(classes[cat][subCat]))\n",
    "        countDict[cat] = countList\n",
    "    return countDict \n",
    "\n",
    "def e9Evenness(counts):\n",
    "    S = len(counts)\n",
    "    totalItems = sum(counts)\n",
    "    P = [item/totalItems for item in counts]\n",
    "    summation = sum([(p**2) for p in P])\n",
    "    numer = S*summation - 1\n",
    "    denom = S - 1\n",
    "    evenness = 1 - (numer/denom)**0.5\n",
    "    return evenness\n",
    "        \n",
    "\n",
    "subCounts = getCounts(classBreakdown)\n",
    "generalCounts = [sum(lis) for lis in subCounts.values()]\n",
    "evenness = [e9Evenness(generalCounts)]\n",
    "sizes = [sum(generalCounts)]\n",
    "numSubcats = [len(generalCounts)]\n",
    "print('Evenness vs. category size\\n')\n",
    "print('Top','\\t', round(e9Evenness(generalCounts), 3), '\\t', sum(generalCounts))\n",
    "for cat in 'ABCDGHJKLMNPQRSTUVZ':\n",
    "    e = e9Evenness(subCounts[cat])\n",
    "    s =  sum(subCounts[cat])\n",
    "    subcats = len(subCounts[cat])\n",
    "    evenness.append(e)\n",
    "    sizes.append(s)\n",
    "    numSubcats.append(subcats)\n",
    "    print(cat, '\\t', round(e, 3), '\\t', s)"
   ]
  },
  {
   "cell_type": "code",
   "execution_count": 14,
   "metadata": {},
   "outputs": [],
   "source": [
    "def correlation(x, y):\n",
    "    xMean = sum(x)/len(x)\n",
    "    yMean = sum(y)/len(y)\n",
    "    numer = 0\n",
    "    xDenom = 0\n",
    "    yDenom = 0\n",
    "    for i in range(len(x)):\n",
    "        numer += (x[i] - xMean)*(y[i] - yMean)\n",
    "        xDenom += (x[i] - xMean)**2\n",
    "        yDenom += (y[i] - yMean)**2\n",
    "    denom = math.sqrt(xDenom*yDenom)\n",
    "    return numer/denom\n",
    "        "
   ]
  },
  {
   "cell_type": "code",
   "execution_count": 15,
   "metadata": {
    "scrolled": true
   },
   "outputs": [
    {
     "data": {
      "image/png": "[encoded data removed]",
      "text/plain": [
       "<Figure size 432x288 with 1 Axes>"
      ]
     },
     "metadata": {},
     "output_type": "display_data"
    },
    {
     "name": "stdout",
     "output_type": "stream",
     "text": [
      "Correlation Coefficient: 0.1906\n"
     ]
    },
    {
     "data": {
      "image/png": "[encoded data removed]",
      "text/plain": [
       "<Figure size 432x288 with 1 Axes>"
      ]
     },
     "metadata": {},
     "output_type": "display_data"
    },
    {
     "name": "stdout",
     "output_type": "stream",
     "text": [
      "Correlation Coefficient 0.6283\n"
     ]
    }
   ],
   "source": [
    "cats = 'ABCDGHJKLMNPQRSTUVZ'\n",
    "fig, ax = pyplot.subplots()\n",
    "ax.scatter(sizes, evenness, c=['orange'])\n",
    "pyplot.title(\"Evenness against Category Size\")\n",
    "pyplot.xlabel(\"Number of items per category\")\n",
    "pyplot.ylabel(\"Evenness Index\")\n",
    "pyplot.show()\n",
    "r1 = correlation(evenness, sizes)\n",
    "print('Correlation Coefficient:', round(r1, 4))\n",
    "\n",
    "fig, ax = pyplot.subplots()\n",
    "ax.scatter(numSubcats, evenness, c=['orange'])\n",
    "pyplot.title(\"Evenness against Number of Subcategories\")\n",
    "pyplot.xlabel(\"Number of Subcategories\")\n",
    "pyplot.ylabel(\"Evenness Index\")\n",
    "pyplot.xticks(np.arange(0, 22, step=2))\n",
    "pyplot.show()\n",
    "r2 = correlation(evenness, numSubcats)\n",
    "print('Correlation Coefficient', round(r2, 4))\n"
   ]
  },
  {
   "cell_type": "code",
   "execution_count": 16,
   "metadata": {},
   "outputs": [],
   "source": [
    "def shanEntropy(counts):\n",
    "    totalItems = sum(counts)\n",
    "    P = [item/totalItems for item in counts]\n",
    "    summation = 0 \n",
    "    for i in range(len(P)):\n",
    "        summation += P[i]*(math.log(P[i], 2))\n",
    "    return -summation \n",
    "\n",
    "def normEntropy(counts):\n",
    "    entropy = shanEntropy(counts)\n",
    "    return entropy / math.log(len(counts), 2)"
   ]
  },
  {
   "cell_type": "code",
   "execution_count": 17,
   "metadata": {},
   "outputs": [
    {
     "name": "stdout",
     "output_type": "stream",
     "text": [
      "Normalized Entropy\n",
      "\n",
      "Top \t 0.831\n",
      "A \t 0.701\n",
      "B \t 0.881\n",
      "C \t 0.821\n",
      "D \t 0.825\n",
      "G \t 0.803\n",
      "H \t 0.873\n",
      "J \t 0.857\n",
      "K \t 0.429\n",
      "L \t 0.555\n",
      "M \t 0.548\n",
      "N \t 0.878\n",
      "P \t 0.81\n",
      "Q \t 0.91\n",
      "R \t 0.752\n",
      "S \t 0.895\n",
      "T \t 0.944\n",
      "U \t 0.788\n",
      "V \t 0.805\n",
      "Z \t 0.05\n"
     ]
    }
   ],
   "source": [
    "entropies = [normEntropy(generalCounts)]\n",
    "print(\"Normalized Entropy\\n\")\n",
    "print('Top','\\t', round(normEntropy(generalCounts), 3))\n",
    "for cat in 'ABCDGHJKLMNPQRSTUVZ':\n",
    "    entropy = normEntropy(subCounts[cat])\n",
    "    entropies.append(entropy)\n",
    "    print(cat, '\\t', round(entropy, 3))"
   ]
  },
  {
   "cell_type": "code",
   "execution_count": 18,
   "metadata": {
    "scrolled": true
   },
   "outputs": [
    {
     "data": {
      "image/png": "[encoded data removed]",
      "text/plain": [
       "<Figure size 432x288 with 1 Axes>"
      ]
     },
     "metadata": {},
     "output_type": "display_data"
    },
    {
     "name": "stdout",
     "output_type": "stream",
     "text": [
      "Correlation Coefficient: 0.9807\n"
     ]
    },
    {
     "data": {
      "image/png": "[encoded data removed]",
      "text/plain": [
       "<Figure size 432x288 with 1 Axes>"
      ]
     },
     "metadata": {},
     "output_type": "display_data"
    },
    {
     "name": "stdout",
     "output_type": "stream",
     "text": [
      "Correlation Coefficient: 0.1492\n"
     ]
    },
    {
     "data": {
      "image/png": "[encoded data removed]",
      "text/plain": [
       "<Figure size 432x288 with 1 Axes>"
      ]
     },
     "metadata": {},
     "output_type": "display_data"
    },
    {
     "name": "stdout",
     "output_type": "stream",
     "text": [
      "Correlation Coefficient 0.5394\n"
     ]
    }
   ],
   "source": [
    "fig, ax = pyplot.subplots()\n",
    "ax.scatter(entropies, evenness,  c=['orange'])\n",
    "pyplot.title(\"Evenness plotted against Normalized Entropy\")\n",
    "pyplot.xlabel(\"Normalized Entropy\")\n",
    "pyplot.ylabel(\"Evenness Index\")\n",
    "pyplot.show()\n",
    "r1 = correlation(evenness, entropies)\n",
    "print('Correlation Coefficient:', round(r1, 4))\n",
    "\n",
    "fig, ax = pyplot.subplots()\n",
    "ax.scatter(sizes, entropies, c=['orange'])\n",
    "pyplot.title(\"Normalized Entropy against Category Size\")\n",
    "pyplot.xlabel(\"Number of items per category\")\n",
    "pyplot.ylabel(\"Normalized Entropy\")\n",
    "pyplot.show()\n",
    "r1 = correlation(entropies, sizes)\n",
    "print('Correlation Coefficient:', round(r1, 4))\n",
    "\n",
    "fig, ax = pyplot.subplots()\n",
    "ax.scatter(numSubcats, entropies, c=['orange'])\n",
    "pyplot.title(\"Normalized Entropy against Number of Subcategories\")\n",
    "pyplot.xlabel(\"Number of Subcategories\")\n",
    "pyplot.ylabel(\"Normalized Entropy\")\n",
    "pyplot.xticks(np.arange(0, 22, step=2))\n",
    "pyplot.show()\n",
    "r2 = correlation(entropies, numSubcats)\n",
    "print('Correlation Coefficient', round(r2, 4))\n"
   ]
  },
  {
   "cell_type": "markdown",
   "metadata": {},
   "source": [
    "- Could look at Kl-divergence from optimal split (evenly divided) \n",
    "- Could try normalizing entropy \n",
    "- Could look at information gain for going into a given category \n",
    "- pure entropy alone is not very informative "
   ]
  },
  {
   "cell_type": "code",
   "execution_count": 35,
   "metadata": {},
   "outputs": [],
   "source": [
    "with open ('classStructures.pk', 'rb') as f:\n",
    "    A = pickle.load(f)\n",
    "    B = pickle.load(f)\n",
    "    C = pickle.load(f)\n",
    "    D = pickle.load(f)\n",
    "    G = pickle.load(f)\n",
    "    H = pickle.load(f)\n",
    "    J = pickle.load(f)\n",
    "    L = pickle.load(f)\n",
    "    N = pickle.load(f)\n",
    "    P = pickle.load(f)\n",
    "    Q = pickle.load(f)\n",
    "    R = pickle.load(f)\n",
    "    S = pickle.load(f)\n",
    "    T = pickle.load(f)\n",
    "    U = pickle.load(f)\n",
    "    V = pickle.load(f)\n",
    "    Z = pickle.load(f)"
   ]
  },
  {
   "cell_type": "code",
   "execution_count": 36,
   "metadata": {},
   "outputs": [],
   "source": [
    "class AlphaNode:\n",
    "    def __init__(self, label, name):\n",
    "        self.label = label \n",
    "        self.name = name\n",
    "        self.children = []\n",
    "        self.child_idx = []\n",
    "        self.numBooks = 0\n",
    "\n",
    "    def __str__(self, level=0):\n",
    "        out = \"\\t\"*level+repr(self.label)+\"\\n\"\n",
    "        for child in self.children:\n",
    "            out += child.__str__(level+1)\n",
    "        return out\n",
    "    \n",
    "    def add_child(self, label, name):\n",
    "        child = AlphaNode(label, name)\n",
    "        self.children.append(child)\n",
    "        self.child_idx.append(label)\n",
    "    \n",
    "    def add_children(self, cat_list):\n",
    "        for tup in cat_list:\n",
    "            self.add_child(tup[0], tup[1])\n",
    "    \n",
    "    def print_children(self):\n",
    "        for child in self.children:\n",
    "            print(child.label)\n",
    "\n",
    "    def add_num_child(self, cat_list):\n",
    "        for tup in cat_list:\n",
    "            self.children.append(NumNode(tup[0], tup[1]))"
   ]
  },
  {
   "cell_type": "code",
   "execution_count": 37,
   "metadata": {},
   "outputs": [],
   "source": [
    "class NumNode:\n",
    "    def __init__(self, min_val, max_val, parent=None):\n",
    "        self.label = str(min_val) + \"-\" + str(max_val)\n",
    "        self.min_val = min_val\n",
    "        self.max_val = max_val \n",
    "        self.children = [] \n",
    "        self.child_idx = []\n",
    "        self.parent = parent\n",
    "        self.numBooks = 0\n",
    "\n",
    "    def __str__(self, level=0):\n",
    "        out = \"\\t\"*level+repr(self.label)+\"\\n\"\n",
    "        for child in self.children:\n",
    "            out += child.__str__(level+1)\n",
    "        return out\n",
    "\n",
    "\n",
    "def add_children(num_list):\n",
    "    node_list = [NumNode(tup[0], tup[1]) for tup in num_list]\n",
    "    node_list.reverse()\n",
    "    if len(num_list) == 1:\n",
    "        roots = node_list\n",
    "    else:\n",
    "        for i in range(len(node_list)-1):\n",
    "            head = node_list[i]\n",
    "            tail = node_list[i+1:]\n",
    "            for node in tail:\n",
    "                if head.min_val >= node.min_val and head.max_val <= node.max_val:\n",
    "                    head.parent = node\n",
    "                    node.children.insert(0, head)\n",
    "                    node.child_idx.insert(0, head.min_val)\n",
    "                    break\n",
    "        node_list.reverse()\n",
    "        roots = [node for node in node_list if node.parent is None]\n",
    "    return roots\n",
    "\n"
   ]
  },
  {
   "cell_type": "code",
   "execution_count": 38,
   "metadata": {},
   "outputs": [
    {
     "name": "stdout",
     "output_type": "stream",
     "text": [
      "'A'\n",
      "\t'C'\n",
      "\t\t'1.0-999.0'\n",
      "\t\t\t'1.0-195.0'\n",
      "\t\t\t\t'1.0-8.0'\n",
      "\t\t\t\t'9.0-195.0'\n",
      "\t\t\t'200.0-200.0'\n",
      "\t\t\t'801.0-895.0'\n",
      "\t\t\t'901.0-995.0'\n",
      "\t\t\t'999.0-999.0'\n",
      "\t'E'\n",
      "\t\t'1.0-90.0'\n",
      "\t\t\t'5.0-90.0'\n",
      "\t'G'\n",
      "\t\t'2.0-600.0'\n",
      "\t'I'\n",
      "\t\t'1.0-21.0'\n",
      "\t'M'\n",
      "\t\t'1.0-501.0'\n",
      "\t\t\t'10.0-100.0'\n",
      "\t\t\t'111.0-160.0'\n",
      "\t\t\t'200.0-501.0'\n",
      "\t'N'\n",
      "\t'P'\n",
      "\t\t'1.0-271.0'\n",
      "\t\t\t'101.0-115.0'\n",
      "\t\t\t'200.0-230.0'\n",
      "\t\t\t'250.0-265.0'\n",
      "\t\t\t'270.0-271.0'\n",
      "\t'S'\n",
      "\t\t'1.0-945.0'\n",
      "\t\t\t'2.5-4.0'\n",
      "\t\t\t'11.0-785.0'\n",
      "\t'Y'\n",
      "\t\t'10.0-2001.0'\n",
      "\t\t\t'10.0-29.0'\n",
      "\t\t\t'30.0-1730.0'\n",
      "\t\t\t'2001.0-2001.0'\n",
      "\t'Z'\n",
      "\t\t'20.0-999.0'\n",
      "\t\t\t'101.0-181.0'\n",
      "\t\t\t'191.0-193.0'\n",
      "\t\t\t'200.0-361.0'\n",
      "\t\t\t'501.0-908.0'\n",
      "\n"
     ]
    }
   ],
   "source": [
    "print(A)"
   ]
  },
  {
   "cell_type": "code",
   "execution_count": 39,
   "metadata": {},
   "outputs": [
    {
     "name": "stdout",
     "output_type": "stream",
     "text": [
      "31705\n",
      "['AC8', 'AC35', 'AC8', 'AC8', 'AC8', 'AC8', 'AE5', 'AG5', 'AG5', 'AC5']\n"
     ]
    }
   ],
   "source": [
    "A_books = [lccn[1][0] for lccn in lccnDat if len(lccn[1][0]) > 0 and lccn[1][0][0] == 'A']\n",
    "print(len(A_books))\n",
    "print(A_books[:10])"
   ]
  },
  {
   "cell_type": "code",
   "execution_count": 40,
   "metadata": {},
   "outputs": [
    {
     "name": "stdout",
     "output_type": "stream",
     "text": [
      "0\n"
     ]
    }
   ],
   "source": [
    "def hasLetters(string):\n",
    "    return any(char.isalpha() for char in string)\n",
    "    \n",
    "def parseTree(node, num):\n",
    "    while node.children != []:\n",
    "        flag = False\n",
    "        for child in node.children:\n",
    "            if float(num) >= child.min_val and float(num) <= child.max_val:\n",
    "                node = child \n",
    "                node.numBooks += 1\n",
    "                flag = True \n",
    "        # if not in any of children\n",
    "        if flag is False:\n",
    "            break \n",
    "            \n",
    "            \n",
    "  \n",
    "print(A.children[0].numBooks)"
   ]
  },
  {
   "cell_type": "code",
   "execution_count": 41,
   "metadata": {},
   "outputs": [
    {
     "name": "stdout",
     "output_type": "stream",
     "text": [
      "12858\n"
     ]
    }
   ],
   "source": [
    "subCats = A.child_idx\n",
    "for num in A_books:\n",
    "    subClass = num[1]\n",
    "    idx = num.find('.')\n",
    "    if idx != -1:\n",
    "        subStr = num[idx+1:]\n",
    "        if hasLetters(subStr):\n",
    "            number = num[2:idx]\n",
    "        else:\n",
    "            number = num[2:]\n",
    "    else:\n",
    "        number = num[2:]    \n",
    "    \n",
    "    if subClass in subCats:\n",
    "        c_idx = subCats.index(subClass)\n",
    "        A.children[c_idx].numBooks += 1\n",
    "        tree = A.children[c_idx]\n",
    "        try:\n",
    "            parseTree(tree, number)\n",
    "        except ValueError:\n",
    "            pass"
   ]
  },
  {
   "cell_type": "code",
   "execution_count": 42,
   "metadata": {},
   "outputs": [
    {
     "name": "stdout",
     "output_type": "stream",
     "text": [
      "12858 C\n"
     ]
    }
   ],
   "source": [
    "print(A.children[0].numBooks, A.child_idx[0])"
   ]
  },
  {
   "cell_type": "code",
   "execution_count": null,
   "metadata": {},
   "outputs": [],
   "source": []
  }
 ],
 "metadata": {
  "kernelspec": {
   "display_name": "Python 3",
   "language": "python",
   "name": "python3"
  },
  "language_info": {
   "codemirror_mode": {
    "name": "ipython",
    "version": 3
   },
   "file_extension": ".py",
   "mimetype": "text/x-python",
   "name": "python",
   "nbconvert_exporter": "python",
   "pygments_lexer": "ipython3",
   "version": "3.6.9"
  }
 },
 "nbformat": 4,
 "nbformat_minor": 2
}
